{
 "cells": [
  {
   "cell_type": "code",
   "execution_count": 1,
   "metadata": {},
   "outputs": [],
   "source": [
    "import pandas as pd"
   ]
  },
  {
   "cell_type": "code",
   "execution_count": 2,
   "metadata": {},
   "outputs": [],
   "source": [
    "import matplotlib.pyplot as plt\n",
    "from sklearn.linear_model import LinearRegression\n",
    "from sklearn.metrics import mean_squared_error, r2_score\n",
    "import numpy as np\n",
    "import seaborn as sns"
   ]
  },
  {
   "cell_type": "code",
   "execution_count": 3,
   "metadata": {},
   "outputs": [],
   "source": [
    "df = pd.read_csv(\"c:/Python/imports-85.csv\")"
   ]
  },
  {
   "cell_type": "code",
   "execution_count": 4,
   "metadata": {},
   "outputs": [
    {
     "data": {
      "text/plain": [
       "Index(['symboling', 'normalized-losses', 'make', 'fuel-type', 'aspiration',\n",
       "       'num-of-doors', 'body-style', 'drive-wheels', 'engine-location',\n",
       "       'wheel-base', 'length', 'width', 'height', 'curb-weight', 'engine-type',\n",
       "       'num-of-cylinders', 'engine-size', 'fuel-system', 'bore', 'stroke',\n",
       "       'compression-ratio', 'horsepower', 'peak-rpm', 'city-mpg',\n",
       "       'highway-mpg', 'price'],\n",
       "      dtype='object')"
      ]
     },
     "execution_count": 4,
     "metadata": {},
     "output_type": "execute_result"
    }
   ],
   "source": [
    "df.columns"
   ]
  },
  {
   "cell_type": "code",
   "execution_count": 5,
   "metadata": {},
   "outputs": [],
   "source": [
    "x = np.array(df['curb-weight']).reshape((-1, 1))\n",
    "y = np.array(df['city-mpg'])"
   ]
  },
  {
   "cell_type": "code",
   "execution_count": 6,
   "metadata": {},
   "outputs": [
    {
     "data": {
      "text/plain": [
       "(array([[2548],\n",
       "        [2548],\n",
       "        [2823],\n",
       "        [2337],\n",
       "        [2824],\n",
       "        [2507],\n",
       "        [2844],\n",
       "        [2954],\n",
       "        [3086],\n",
       "        [3053],\n",
       "        [2395],\n",
       "        [2395],\n",
       "        [2710],\n",
       "        [2765],\n",
       "        [3055],\n",
       "        [3230],\n",
       "        [3380],\n",
       "        [3505],\n",
       "        [1488],\n",
       "        [1874],\n",
       "        [1909],\n",
       "        [1876],\n",
       "        [1876],\n",
       "        [2128],\n",
       "        [1967],\n",
       "        [1989],\n",
       "        [1989],\n",
       "        [2191],\n",
       "        [2535],\n",
       "        [2811],\n",
       "        [1713],\n",
       "        [1819],\n",
       "        [1837],\n",
       "        [1940],\n",
       "        [1956],\n",
       "        [2010],\n",
       "        [2024],\n",
       "        [2236],\n",
       "        [2289],\n",
       "        [2304],\n",
       "        [2372],\n",
       "        [2465],\n",
       "        [2293],\n",
       "        [2337],\n",
       "        [1874],\n",
       "        [1909],\n",
       "        [2734],\n",
       "        [4066],\n",
       "        [4066],\n",
       "        [3950],\n",
       "        [1890],\n",
       "        [1900],\n",
       "        [1905],\n",
       "        [1945],\n",
       "        [1950],\n",
       "        [2380],\n",
       "        [2380],\n",
       "        [2385],\n",
       "        [2500],\n",
       "        [2385],\n",
       "        [2410],\n",
       "        [2385],\n",
       "        [2410],\n",
       "        [2443],\n",
       "        [2425],\n",
       "        [2670],\n",
       "        [2700],\n",
       "        [3515],\n",
       "        [3750],\n",
       "        [3495],\n",
       "        [3770],\n",
       "        [3740],\n",
       "        [3685],\n",
       "        [3900],\n",
       "        [3715],\n",
       "        [2910],\n",
       "        [1918],\n",
       "        [1944],\n",
       "        [2004],\n",
       "        [2145],\n",
       "        [2370],\n",
       "        [2328],\n",
       "        [2833],\n",
       "        [2921],\n",
       "        [2926],\n",
       "        [2365],\n",
       "        [2405],\n",
       "        [2403],\n",
       "        [2403],\n",
       "        [1889],\n",
       "        [2017],\n",
       "        [1918],\n",
       "        [1938],\n",
       "        [2024],\n",
       "        [1951],\n",
       "        [2028],\n",
       "        [1971],\n",
       "        [2037],\n",
       "        [2008],\n",
       "        [2324],\n",
       "        [2302],\n",
       "        [3095],\n",
       "        [3296],\n",
       "        [3060],\n",
       "        [3071],\n",
       "        [3139],\n",
       "        [3139],\n",
       "        [3020],\n",
       "        [3197],\n",
       "        [3230],\n",
       "        [3430],\n",
       "        [3075],\n",
       "        [3252],\n",
       "        [3285],\n",
       "        [3485],\n",
       "        [3075],\n",
       "        [3252],\n",
       "        [3130],\n",
       "        [1918],\n",
       "        [2128],\n",
       "        [1967],\n",
       "        [1989],\n",
       "        [2191],\n",
       "        [2535],\n",
       "        [2818],\n",
       "        [2778],\n",
       "        [2756],\n",
       "        [2756],\n",
       "        [2800],\n",
       "        [3366],\n",
       "        [2579],\n",
       "        [2460],\n",
       "        [2658],\n",
       "        [2695],\n",
       "        [2707],\n",
       "        [2758],\n",
       "        [2808],\n",
       "        [2847],\n",
       "        [2050],\n",
       "        [2120],\n",
       "        [2240],\n",
       "        [2145],\n",
       "        [2190],\n",
       "        [2340],\n",
       "        [2385],\n",
       "        [2510],\n",
       "        [2290],\n",
       "        [2455],\n",
       "        [2420],\n",
       "        [2650],\n",
       "        [1985],\n",
       "        [2040],\n",
       "        [2015],\n",
       "        [2280],\n",
       "        [2290],\n",
       "        [3110],\n",
       "        [2081],\n",
       "        [2109],\n",
       "        [2275],\n",
       "        [2275],\n",
       "        [2094],\n",
       "        [2122],\n",
       "        [2140],\n",
       "        [2169],\n",
       "        [2204],\n",
       "        [2265],\n",
       "        [2300],\n",
       "        [2540],\n",
       "        [2536],\n",
       "        [2551],\n",
       "        [2679],\n",
       "        [2714],\n",
       "        [2975],\n",
       "        [2326],\n",
       "        [2480],\n",
       "        [2414],\n",
       "        [2414],\n",
       "        [2458],\n",
       "        [2976],\n",
       "        [3016],\n",
       "        [3131],\n",
       "        [3151],\n",
       "        [2261],\n",
       "        [2209],\n",
       "        [2264],\n",
       "        [2212],\n",
       "        [2275],\n",
       "        [2319],\n",
       "        [2300],\n",
       "        [2254],\n",
       "        [2221],\n",
       "        [2661],\n",
       "        [2579],\n",
       "        [2563],\n",
       "        [2912],\n",
       "        [3034],\n",
       "        [2935],\n",
       "        [3042],\n",
       "        [3045],\n",
       "        [3157],\n",
       "        [2952],\n",
       "        [3049],\n",
       "        [3012],\n",
       "        [3217],\n",
       "        [3062]], dtype=int64),\n",
       " array([21, 21, 19, 24, 18, 19, 19, 19, 17, 16, 23, 23, 21, 21, 20, 16, 16,\n",
       "        15, 47, 38, 38, 37, 31, 24, 31, 31, 31, 24, 24, 19, 49, 31, 38, 30,\n",
       "        30, 30, 30, 27, 27, 27, 27, 24, 25, 24, 38, 38, 24, 15, 15, 13, 30,\n",
       "        31, 31, 31, 31, 17, 17, 17, 16, 26, 26, 26, 26, 36, 26, 19, 31, 22,\n",
       "        22, 22, 22, 16, 16, 14, 14, 19, 37, 31, 31, 24, 23, 25, 19, 19, 19,\n",
       "        25, 25, 23, 23, 31, 45, 31, 31, 31, 31, 31, 31, 31, 31, 27, 27, 17,\n",
       "        17, 19, 19, 17, 19, 19, 28, 19, 25, 19, 28, 19, 25, 19, 28, 18, 37,\n",
       "        24, 31, 31, 31, 24, 19, 19, 17, 17, 17, 17, 23, 23, 21, 21, 21, 21,\n",
       "        19, 19, 31, 26, 26, 32, 28, 26, 24, 24, 28, 25, 23, 23, 35, 31, 31,\n",
       "        31, 27, 27, 30, 30, 34, 38, 38, 28, 28, 29, 29, 26, 26, 24, 24, 24,\n",
       "        24, 24, 24, 29, 30, 27, 27, 27, 20, 19, 20, 19, 37, 27, 37, 27, 27,\n",
       "        37, 26, 24, 24, 19, 33, 25, 23, 23, 24, 24, 17, 17, 23, 19, 18, 26,\n",
       "        19], dtype=int64))"
      ]
     },
     "execution_count": 6,
     "metadata": {},
     "output_type": "execute_result"
    }
   ],
   "source": [
    "x, y"
   ]
  },
  {
   "cell_type": "code",
   "execution_count": 7,
   "metadata": {},
   "outputs": [
    {
     "data": {
      "text/plain": [
       "<matplotlib.axes._subplots.AxesSubplot at 0x193c6755400>"
      ]
     },
     "execution_count": 7,
     "metadata": {},
     "output_type": "execute_result"
    },
    {
     "data": {
      "image/png": "[encoded data removed]",
      "text/plain": [
       "<Figure size 432x288 with 1 Axes>"
      ]
     },
     "metadata": {},
     "output_type": "display_data"
    }
   ],
   "source": [
    "sns.regplot(x,y)"
   ]
  },
  {
   "cell_type": "code",
   "execution_count": 8,
   "metadata": {},
   "outputs": [],
   "source": [
    "mdl = LinearRegression().fit(x,y)"
   ]
  },
  {
   "cell_type": "code",
   "execution_count": 9,
   "metadata": {},
   "outputs": [],
   "source": [
    "r_sq = mdl.score(x,y)"
   ]
  },
  {
   "cell_type": "code",
   "execution_count": 10,
   "metadata": {},
   "outputs": [
    {
     "name": "stdout",
     "output_type": "stream",
     "text": [
      "o coeficiente R_SQ é 0.5736756409590966\n"
     ]
    }
   ],
   "source": [
    "print('o coeficiente R_SQ é '+str(r_sq))"
   ]
  },
  {
   "cell_type": "code",
   "execution_count": 11,
   "metadata": {},
   "outputs": [
    {
     "name": "stdout",
     "output_type": "stream",
     "text": [
      "formula x = [-0.00951661]x + 49.53982513607822\n"
     ]
    }
   ],
   "source": [
    "m = mdl.coef_\n",
    "b = mdl.intercept_\n",
    "\n",
    "print (\"formula x = {0}x + {1}\".format(m,b))"
   ]
  },
  {
   "cell_type": "code",
   "execution_count": null,
   "metadata": {},
   "outputs": [],
   "source": []
  }
 ],
 "metadata": {
  "kernelspec": {
   "display_name": "Python 3",
   "language": "python",
   "name": "python3"
  },
  "language_info": {
   "codemirror_mode": {
    "name": "ipython",
    "version": 3
   },
   "file_extension": ".py",
   "mimetype": "text/x-python",
   "name": "python",
   "nbconvert_exporter": "python",
   "pygments_lexer": "ipython3",
   "version": "3.6.5"
  }
 },
 "nbformat": 4,
 "nbformat_minor": 2
}
